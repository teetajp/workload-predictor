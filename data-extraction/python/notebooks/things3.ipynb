{
 "cells": [
  {
   "cell_type": "code",
   "execution_count": null,
   "id": "initial_id",
   "metadata": {
    "ExecuteTime": {
     "end_time": "2023-10-29T04:04:10.966210Z",
     "start_time": "2023-10-29T04:04:09.577305Z"
    },
    "collapsed": false
   },
   "outputs": [],
   "source": [
    "import numpy as np\n",
    "import pandas as pd\n",
    "import things"
   ]
  },
  {
   "cell_type": "code",
   "execution_count": null,
   "id": "48fd806581e469bf",
   "metadata": {
    "ExecuteTime": {
     "end_time": "2023-10-29T04:04:11.486286Z",
     "start_time": "2023-10-29T04:04:11.471223Z"
    },
    "collapsed": false
   },
   "outputs": [],
   "source": [
    "things.areas()"
   ]
  },
  {
   "cell_type": "code",
   "execution_count": null,
   "id": "b293cc63552a67a4",
   "metadata": {
    "ExecuteTime": {
     "end_time": "2023-10-29T04:04:12.178091Z",
     "start_time": "2023-10-29T04:04:12.100355Z"
    },
    "collapsed": false
   },
   "outputs": [],
   "source": []
  },
  {
   "cell_type": "code",
   "execution_count": null,
   "id": "a4e7a2a8021fbd49",
   "metadata": {
    "ExecuteTime": {
     "end_time": "2023-10-29T04:04:12.669030Z",
     "start_time": "2023-10-29T04:04:12.659929Z"
    },
    "collapsed": false
   },
   "outputs": [],
   "source": [
    "all_projects = things.projects()\n",
    "all_projects"
   ]
  },
  {
   "cell_type": "code",
   "execution_count": null,
   "id": "330098c561cccd4e",
   "metadata": {
    "ExecuteTime": {
     "end_time": "2023-10-29T04:04:13.003079Z",
     "start_time": "2023-10-29T04:04:12.970362Z"
    },
    "collapsed": false
   },
   "outputs": [],
   "source": [
    "things.projects(\"QR1tTdB8jBSiaVmE6kRjmm\")"
   ]
  },
  {
   "cell_type": "code",
   "execution_count": null,
   "id": "63cedf677fa6ccff",
   "metadata": {
    "ExecuteTime": {
     "end_time": "2023-10-29T04:38:52.070428Z",
     "start_time": "2023-10-29T04:38:52.053200Z"
    },
    "collapsed": false
   },
   "outputs": [],
   "source": [
    "# Extract desired classes\n",
    "class_names = [\"STAT 410\", \"STAT 425\", \"CS 340\", \"SOCW 297\"]\n",
    "classes = {}\n",
    "for project in things.projects():\n",
    "    if project['title'] in class_names:\n",
    "        classes[project['title']] = project[\"uuid\"]"
   ]
  },
  {
   "cell_type": "code",
   "execution_count": null,
   "id": "8f9e4789a7a814ad",
   "metadata": {
    "ExecuteTime": {
     "end_time": "2023-10-29T04:57:40.416080Z",
     "start_time": "2023-10-29T04:57:40.404514Z"
    },
    "collapsed": false
   },
   "outputs": [],
   "source": [
    "for title in classes:\n",
    "    print(classes[title])\n",
    "    \n",
    "list(classes.values())"
   ]
  },
  {
   "cell_type": "code",
   "execution_count": null,
   "id": "8c703a495545c878",
   "metadata": {
    "ExecuteTime": {
     "end_time": "2023-10-29T05:07:00.095361Z",
     "start_time": "2023-10-29T05:07:00.050796Z"
    },
    "collapsed": false
   },
   "outputs": [],
   "source": [
    "df_completed = pd.DataFrame(things.tasks(type=\"to-do\", tag=\"Assignments\", uuid=\"HLHzB2K1Eoo7mdGrPPhmTf\")[\"items\"])\n",
    "#df_completed[df_completed[\"uuid\"].isin(list(classes.values()))]\n",
    "df_completed"
   ]
  },
  {
   "cell_type": "code",
   "execution_count": null,
   "id": "b9d26178f5e0b02f",
   "metadata": {
    "ExecuteTime": {
     "end_time": "2023-10-29T05:11:08.516604Z",
     "start_time": "2023-10-29T05:11:08.490690Z"
    },
    "collapsed": false
   },
   "outputs": [],
   "source": [
    "pd.DataFrame(things.tasks(uuid=\"HLHzB2K1Eoo7mdGrPPhmTf\")[\"items\"])"
   ]
  },
  {
   "cell_type": "code",
   "execution_count": null,
   "id": "8391780281f643e9",
   "metadata": {
    "ExecuteTime": {
     "end_time": "2023-10-29T05:14:12.213156Z",
     "start_time": "2023-10-29T05:14:12.176070Z"
    },
    "collapsed": false
   },
   "outputs": [],
   "source": [
    "pd.DataFrame(things.tasks(type=\"to-do\", status=\"completed\"))"
   ]
  },
  {
   "cell_type": "code",
   "execution_count": null,
   "id": "af1e347fe0aae389",
   "metadata": {
    "collapsed": false
   },
   "outputs": [],
   "source": []
  }
 ],
 "metadata": {
  "kernelspec": {
   "display_name": "Python 3",
   "language": "python",
   "name": "python3"
  },
  "language_info": {
   "codemirror_mode": {
    "name": "ipython",
    "version": 2
   },
   "file_extension": ".py",
   "mimetype": "text/x-python",
   "name": "python",
   "nbconvert_exporter": "python",
   "pygments_lexer": "ipython2",
   "version": "2.7.6"
  }
 },
 "nbformat": 4,
 "nbformat_minor": 5
}
